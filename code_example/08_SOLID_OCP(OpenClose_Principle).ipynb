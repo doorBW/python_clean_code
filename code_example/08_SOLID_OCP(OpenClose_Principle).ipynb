{
 "cells": [
  {
   "cell_type": "markdown",
   "metadata": {},
   "source": [
    "# **SOLID_OCP(Open/Close Principle)**\n",
    "관련 내용은 아래 블로그 주소에 포스팅해두었습니다.   \n",
    "URL: https://doorbw.tistory.com/237"
   ]
  },
  {
   "cell_type": "markdown",
   "metadata": {},
   "source": [
    "## **Open/Close Principle**\n",
    "#### **Message by Grade class example**"
   ]
  },
  {
   "cell_type": "code",
   "execution_count": 2,
   "metadata": {},
   "outputs": [],
   "source": [
    "# OCP를 지키지 못한 예제\n",
    "class Message:\n",
    "    \"\"\"Message 추상 클래스\"\"\"\n",
    "    def __init__(self, data):\n",
    "        self.data = data\n",
    "\n",
    "class FirstGradeMessage(Message):\n",
    "    \"\"\"FirstGrade에 대한 메세지 처리 클래스\"\"\"\n",
    "    \n",
    "class SecondGradeMessage(Message):\n",
    "    \"\"\"SecondGrade에 대한 메세지 처리 클래스\"\"\"\n",
    "    \n",
    "class ThirdGradeMessage(Message):\n",
    "    \"\"\"ThirdGrade에 대한 메세지 처리 클래스\"\"\"\n",
    "    \n",
    "class DefaultGradeMessage(Message):\n",
    "    \"\"\"DefaultGrade에 대한 메세지 처리 클래스\"\"\"\n",
    "    \n",
    "class GradeMessageClassification():\n",
    "    \"\"\"Grade에 따른 메세지 분류 클래스\"\"\"\n",
    "    def __init__(self, data):\n",
    "        self.data = data\n",
    "        \n",
    "    def classification(self):\n",
    "        if(self.data['grade'] == 1):\n",
    "            return FirstGrade(self.data)\n",
    "        elif(self.data['grade'] == 2):\n",
    "            return SecondGrade(self.data)\n",
    "        elif(self.data['grade'] == 3):\n",
    "            return ThirdGrade(self.data)\n",
    "        else:\n",
    "            return DefaultGrade(self.data)"
   ]
  },
  {
   "cell_type": "code",
   "execution_count": 3,
   "metadata": {},
   "outputs": [],
   "source": [
    "# OCP가 적용된 예제\n",
    "class Message:\n",
    "    \"\"\"Message 추상 클래스\"\"\"\n",
    "    def __init__(self, data):\n",
    "        self.data = data\n",
    "        \n",
    "    @staticmethod\n",
    "    def is_collect_grade_message(data: dict):\n",
    "        return False\n",
    "\n",
    "class FirstGradeMessage(Message):\n",
    "    \"\"\"FirstGrade에 대한 메세지 처리 클래스\"\"\"\n",
    "    @staticmethod\n",
    "    def is_collect_grade_message(data: dict):\n",
    "        return data['grade'] == 1\n",
    "    \n",
    "class SecondGradeMessage(Message):\n",
    "    \"\"\"SecondGrade에 대한 메세지 처리 클래스\"\"\"\n",
    "    @staticmethod\n",
    "    def is_collect_grade_message(data: dict):\n",
    "        return data['grade'] == 2\n",
    "    \n",
    "class ThirdGradeMessage(Message):\n",
    "    \"\"\"ThirdGrade에 대한 메세지 처리 클래스\"\"\"\n",
    "    @staticmethod\n",
    "    def is_collect_grade_message(data: dict):\n",
    "        return data['grade'] == 3\n",
    "    \n",
    "class DefaultGradeMessage(Message):\n",
    "    \"\"\"DefaultGrade에 대한 메세지 처리 클래스\"\"\"\n",
    "    \n",
    "class GradeMessageClassification():\n",
    "    \"\"\"Grade에 따른 메세지 분류 클래스\"\"\"\n",
    "    def __init__(self, data):\n",
    "        self.data = data\n",
    "        \n",
    "    def classification(self):\n",
    "        for grade_message_cls in Message.__subclasses__():\n",
    "            try:\n",
    "                if grade_message_cls.is_collect_grade_message(self.data):\n",
    "                    return grade_message_cls(self.data)\n",
    "            except KeyError:\n",
    "                continue\n",
    "                \n",
    "            return DefaultGradeMessage(self.data)\n",
    "                "
   ]
  },
  {
   "cell_type": "code",
   "execution_count": null,
   "metadata": {},
   "outputs": [],
   "source": [
    "# OCP가 적용된 예제를 기반으로 grade 추가시에는 아래와 같이 Message 클래스를 상속받는 클래스만 생성해주면 된다.\n",
    "class FourthGradeMessage(Message):\n",
    "    \"\"\"FourthGrade에 대한 메세지 처리 클래스\"\"\"\n",
    "    @staticmethod\n",
    "    def is_collect_grade_message(data: dict):\n",
    "        return data['grade'] == 4"
   ]
  }
 ],
 "metadata": {
  "kernelspec": {
   "display_name": "Python 3",
   "language": "python",
   "name": "python3"
  },
  "language_info": {
   "codemirror_mode": {
    "name": "ipython",
    "version": 3
   },
   "file_extension": ".py",
   "mimetype": "text/x-python",
   "name": "python",
   "nbconvert_exporter": "python",
   "pygments_lexer": "ipython3",
   "version": "3.6.5"
  }
 },
 "nbformat": 4,
 "nbformat_minor": 2
}
