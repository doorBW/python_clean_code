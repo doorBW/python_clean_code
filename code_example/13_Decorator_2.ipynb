{
 "cells": [
  {
   "cell_type": "markdown",
   "metadata": {},
   "source": [
    "# Decorator_2"
   ]
  },
  {
   "cell_type": "markdown",
   "metadata": {},
   "source": [
    "Decorator에 대해서 아래와 같은 내용을 구현해본다.\n",
    "* 로깅(logging)\n",
    "* 함수 파라미터의 유효성 검사\n",
    "* 재시도(retry) 로직 구현   \n",
    "이를 위해 먼저 [특정 사이트에 단어 count]기능을 하는 아래 코드를 구현하였다."
   ]
  },
  {
   "cell_type": "code",
   "execution_count": 32,
   "metadata": {},
   "outputs": [],
   "source": [
    "import requests, time\n",
    "\n",
    "def get_keyword_cnt(url:str, keyword:str)->int:\n",
    "    if not \"https://www.\" in url:\n",
    "        url = \"https://www.\" + url\n",
    "    url_src = requests.get(url).text\n",
    "    keyword_cnt = url_src.find(keyword)    \n",
    "    return keyword_cnt\n",
    "\n",
    "def get_url_input()->str:\n",
    "    url = input(\"확인할 주소를 입력하세요: \")\n",
    "    return url\n",
    "\n",
    "def get_keyword_input()->str:\n",
    "    keyword = input(\"확인할 단어를 입력하세요: \")\n",
    "    return keyword"
   ]
  },
  {
   "cell_type": "code",
   "execution_count": 33,
   "metadata": {},
   "outputs": [
    {
     "name": "stdout",
     "output_type": "stream",
     "text": [
      "[naver.com]에서, [수능]은/는 [38415]회 탐색되었습니다.\n"
     ]
    }
   ],
   "source": [
    "if __name__ == '__main__':\n",
    "    url = get_url_input()    \n",
    "    keyword = get_keyword_input()\n",
    "    cnt = get_keyword_cnt(url, keyword)\n",
    "    print(f\"[{url}]에서, [{keyword}]은/는 [{cnt}]회 탐색되었습니다.\")"
   ]
  }
 ],
 "metadata": {
  "kernelspec": {
   "display_name": "Python 3",
   "language": "python",
   "name": "python3"
  },
  "language_info": {
   "codemirror_mode": {
    "name": "ipython",
    "version": 3
   },
   "file_extension": ".py",
   "mimetype": "text/x-python",
   "name": "python",
   "nbconvert_exporter": "python",
   "pygments_lexer": "ipython3",
   "version": "3.6.5"
  }
 },
 "nbformat": 4,
 "nbformat_minor": 4
}
