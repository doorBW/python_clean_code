{
 "cells": [
  {
   "cell_type": "markdown",
   "metadata": {},
   "source": [
    "# **SOLID_ISP(Interface Segregagation Principle)**\n",
    "관련 내용은 아래 블로그 주소에 포스팅해두었습니다.   \n",
    "URL: https://doorbw.tistory.com/239"
   ]
  },
  {
   "cell_type": "markdown",
   "metadata": {},
   "source": [
    "## **Interface Segregation Principle**\n",
    "#### ** EventParser class example**"
   ]
  },
  {
   "cell_type": "code",
   "execution_count": 6,
   "metadata": {},
   "outputs": [],
   "source": [
    "# ISP를 지키지 못한 예제\n",
    "from abc import *\n",
    "\n",
    "class EventParser(metaclass=ABCMeta):\n",
    "    \"\"\"Interface: EventParser class\"\"\"\n",
    "    @abstractmethod\n",
    "    def from_json(self, event_data):\n",
    "        pass\n",
    "    \n",
    "    @abstractmethod\n",
    "    def from_xml(self, event_data):\n",
    "        pass    "
   ]
  },
  {
   "cell_type": "code",
   "execution_count": 7,
   "metadata": {},
   "outputs": [],
   "source": [
    "# ISP를 적용한 예제\n",
    "from abc import *\n",
    "\n",
    "class JsonEventParser(metaclass=ABCMeta):\n",
    "    \"\"\"Interface: JsonEventParser class\"\"\"\n",
    "    @abstractmethod\n",
    "    def from_json(self, event_data):\n",
    "        pass    \n",
    "    \n",
    "class XmlEventParser(metaclass=ABCMeta):\n",
    "    \"\"\"Interface: XmlEventParser class\"\"\"\n",
    "    @abstractmethod\n",
    "    def from_xml(self, event_data):\n",
    "        pass    "
   ]
  }
 ],
 "metadata": {
  "kernelspec": {
   "display_name": "Python 3",
   "language": "python",
   "name": "python3"
  },
  "language_info": {
   "codemirror_mode": {
    "name": "ipython",
    "version": 3
   },
   "file_extension": ".py",
   "mimetype": "text/x-python",
   "name": "python",
   "nbconvert_exporter": "python",
   "pygments_lexer": "ipython3",
   "version": "3.6.5"
  }
 },
 "nbformat": 4,
 "nbformat_minor": 2
}
