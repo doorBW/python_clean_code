{
 "cells": [
  {
   "cell_type": "markdown",
   "metadata": {},
   "source": [
    "# 인자(Argument)\n",
    "관련 내용은 아래 블로그 주소에 포스팅해두었습니다.   \n",
    "URL: https://doorbw.tistory.com/235   \n",
    "   \n",
    "## 0. 인자(Argument)와 매개변수(Parameter)"
   ]
  },
  {
   "cell_type": "code",
   "execution_count": 23,
   "metadata": {},
   "outputs": [
    {
     "name": "stdout",
     "output_type": "stream",
     "text": [
      "param1:AA, param2:B\n"
     ]
    }
   ],
   "source": [
    "def func1(param1, param2):\n",
    "    print(f\"param1:{param1}, param2:{param2}\")\n",
    "\n",
    "func1(\"AA\",\"B\")"
   ]
  },
  {
   "cell_type": "markdown",
   "metadata": {},
   "source": [
    "## 1. 파이썬에서 인자의 전달방식"
   ]
  },
  {
   "cell_type": "code",
   "execution_count": 24,
   "metadata": {},
   "outputs": [
    {
     "name": "stdout",
     "output_type": "stream",
     "text": [
      "before val1:3\n",
      "call by value: 4\n",
      "after val1:3\n",
      "- - - - - - - - - - \n",
      "before val2:[3]\n",
      "call by ref: [4]\n",
      "after val2:[4]\n"
     ]
    }
   ],
   "source": [
    "def call_by_value(param1:int)->None:\n",
    "    param1 += 1\n",
    "    print(f\"call by value: {param1}\")\n",
    "    \n",
    "def call_by_ref(param2:list)->None:\n",
    "    param2[0] += 1\n",
    "    print(f\"call by ref: {param2}\")\n",
    "    \n",
    "val1 = 3\n",
    "val2 = [3]\n",
    "\n",
    "print(f\"before val1:{val1}\")\n",
    "call_by_value(val1)\n",
    "print(f\"after val1:{val1}\")\n",
    "print(\"- - - - - - - - - - \")\n",
    "print(f\"before val2:{val2}\")\n",
    "call_by_ref(val2)\n",
    "print(f\"after val2:{val2}\")"
   ]
  },
  {
   "cell_type": "markdown",
   "metadata": {},
   "source": [
    "## 2. 가변 인자"
   ]
  },
  {
   "cell_type": "code",
   "execution_count": 25,
   "metadata": {},
   "outputs": [
    {
     "name": "stdout",
     "output_type": "stream",
     "text": [
      "* call args_test_func1\n",
      "a:1, b:2, c:3, a+b+c:6\n",
      "* END args_test_func1\n",
      "\n",
      "* call args_test_func2\n",
      "a:1, b:2, args:(3,), a+b+c:6\n",
      "* END args_test_func2\n",
      "\n",
      "* call args_test_func2\n",
      "a:1, b:2, args:(3, 4, 5, 6), a+b+c:21\n",
      "* END args_test_func2\n",
      "\n"
     ]
    }
   ],
   "source": [
    "def args_test_func1(a, b, c):\n",
    "    print(\"* call args_test_func1\")\n",
    "    print(f\"a:{a}, b:{b}, c:{c}, a+b+c:{a+b+c}\")\n",
    "    print(\"* END args_test_func1\", end='\\n\\n')\n",
    "    \n",
    "def args_test_func2(a, b, *args):\n",
    "    print(\"* call args_test_func2\")\n",
    "    print(f\"a:{a}, b:{b}, args:{args}, a+b+c:{a+b+sum(args)}\")\n",
    "    print(\"* END args_test_func2\", end='\\n\\n')\n",
    "    \n",
    "args_test_func1(1,2,3)\n",
    "args_test_func2(1,2,3)\n",
    "args_test_func2(1,2,3,4,5,6)"
   ]
  },
  {
   "cell_type": "code",
   "execution_count": 26,
   "metadata": {
    "scrolled": true
   },
   "outputs": [
    {
     "ename": "TypeError",
     "evalue": "packing_func1() missing 2 required positional arguments: 'b' and 'c'",
     "output_type": "error",
     "traceback": [
      "\u001b[0;31m---------------------------------------------------------------------------\u001b[0m",
      "\u001b[0;31mTypeError\u001b[0m                                 Traceback (most recent call last)",
      "\u001b[0;32m<ipython-input-26-aaa44dbee827>\u001b[0m in \u001b[0;36m<module>\u001b[0;34m\u001b[0m\n\u001b[1;32m      3\u001b[0m \u001b[0;34m\u001b[0m\u001b[0m\n\u001b[1;32m      4\u001b[0m \u001b[0mpacking_list\u001b[0m \u001b[0;34m=\u001b[0m \u001b[0;34m[\u001b[0m\u001b[0;36m1\u001b[0m\u001b[0;34m,\u001b[0m\u001b[0;36m2\u001b[0m\u001b[0;34m,\u001b[0m\u001b[0;36m3\u001b[0m\u001b[0;34m]\u001b[0m\u001b[0;34m\u001b[0m\u001b[0;34m\u001b[0m\u001b[0m\n\u001b[0;32m----> 5\u001b[0;31m \u001b[0mpacking_func1\u001b[0m\u001b[0;34m(\u001b[0m\u001b[0mpacking_list\u001b[0m\u001b[0;34m)\u001b[0m\u001b[0;34m\u001b[0m\u001b[0;34m\u001b[0m\u001b[0m\n\u001b[0m",
      "\u001b[0;31mTypeError\u001b[0m: packing_func1() missing 2 required positional arguments: 'b' and 'c'"
     ]
    }
   ],
   "source": [
    "def packing_func1(a, b, c):\n",
    "    print(f\"a:{a}, b:{b}, c:{c}, a+b+c:{a+b+c}\")\n",
    "    \n",
    "packing_list = [1,2,3]\n",
    "packing_func1(packing_list)"
   ]
  },
  {
   "cell_type": "code",
   "execution_count": 27,
   "metadata": {},
   "outputs": [
    {
     "name": "stdout",
     "output_type": "stream",
     "text": [
      "a:1, b:2, c:3, a+b+c:6\n"
     ]
    }
   ],
   "source": [
    "packing_func1(*packing_list)"
   ]
  },
  {
   "cell_type": "markdown",
   "metadata": {},
   "source": [
    "## 3. 가변 키워드 인자"
   ]
  },
  {
   "cell_type": "code",
   "execution_count": 28,
   "metadata": {},
   "outputs": [
    {
     "name": "stdout",
     "output_type": "stream",
     "text": [
      "kwagrs:{'key': 'value', 'test': 'wow'}\n"
     ]
    }
   ],
   "source": [
    "def kwargs_test_func1(**kwagrs):\n",
    "    print(f\"kwagrs:{kwagrs}\")\n",
    "    \n",
    "kwargs_test_func1(key=\"value\", test=\"wow\")"
   ]
  },
  {
   "cell_type": "code",
   "execution_count": 29,
   "metadata": {},
   "outputs": [
    {
     "name": "stdout",
     "output_type": "stream",
     "text": [
      "a:1, b:2, c:3, a+b+c:6\n"
     ]
    }
   ],
   "source": [
    "def kwargs_test_func2(a, b, c):\n",
    "    print(f\"a:{a}, b:{b}, c:{c}, a+b+c:{a+b+c}\")\n",
    "    \n",
    "kwagrs_dict = {\n",
    "    'a': 1, 'b': 2, 'c': 3\n",
    "}\n",
    "\n",
    "kwargs_test_func2(**kwagrs_dict)"
   ]
  }
 ],
 "metadata": {
  "kernelspec": {
   "display_name": "Python 3",
   "language": "python",
   "name": "python3"
  },
  "language_info": {
   "codemirror_mode": {
    "name": "ipython",
    "version": 3
   },
   "file_extension": ".py",
   "mimetype": "text/x-python",
   "name": "python",
   "nbconvert_exporter": "python",
   "pygments_lexer": "ipython3",
   "version": "3.8.2"
  }
 },
 "nbformat": 4,
 "nbformat_minor": 4
}
