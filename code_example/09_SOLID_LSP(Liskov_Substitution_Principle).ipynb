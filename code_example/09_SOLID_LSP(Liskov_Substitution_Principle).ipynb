{
 "cells": [
  {
   "cell_type": "markdown",
   "metadata": {},
   "source": [
    "# **SOLID_LSP(Liskov SubstitutionPrinciple)**\n",
    "관련 내용은 아래 블로그 주소에 포스팅해두었습니다.   \n",
    "URL: https://doorbw.tistory.com/238"
   ]
  },
  {
   "cell_type": "markdown",
   "metadata": {},
   "source": [
    "## **Liskov Substitution Principle**\n",
    "#### **Event class example**"
   ]
  },
  {
   "cell_type": "code",
   "execution_count": 2,
   "metadata": {},
   "outputs": [],
   "source": [
    "# LSP를 지키지 못한 예제 1\n",
    "class Event:\n",
    "    \"\"\"Super class: Event class\"\"\"\n",
    "    def __init__(self, event_data: dict):\n",
    "        this.event_data = event_data\n",
    "        \n",
    "    def meet_condition(self, event_data: dict) -> bool:\n",
    "        return False\n",
    "    \n",
    "class LoginEvent(Event):\n",
    "    \"\"\"Sub class: LoginEvent class\"\"\"\n",
    "    def meet_condition(self, event_data: list) -> bool:\n",
    "        return event_data[0] == 'login'\n",
    "    "
   ]
  },
  {
   "cell_type": "code",
   "execution_count": 1,
   "metadata": {},
   "outputs": [],
   "source": [
    "# LSP를 적용한 예제 1\n",
    "class Event:\n",
    "    \"\"\"Super class: Event class\"\"\"\n",
    "    def __init__(self, event_data: dict):\n",
    "        this.event_data = event_data\n",
    "        \n",
    "    def meet_condition(self, event_data: dict) -> bool:\n",
    "        return False\n",
    "    \n",
    "class LoginEvent(Event):\n",
    "    \"\"\"Sub class: LoginEvent class\"\"\"\n",
    "    def meet_condition(self, event_data: dict) -> bool:\n",
    "        return event_data['before'][\"session\"] == 0 and event_data['after'][\"session\"] == 1"
   ]
  },
  {
   "cell_type": "code",
   "execution_count": 28,
   "metadata": {},
   "outputs": [],
   "source": [
    "# LSP를 지키지 못한 예제 2\n",
    "class Event:\n",
    "    \"\"\"Super class: Event class\"\"\"\n",
    "    def __init__(self, event_data: dict):\n",
    "        self.event_data = event_data\n",
    "\n",
    "    @staticmethod\n",
    "    def meets_condition(event_data: dict) -> bool:\n",
    "        return False\n",
    "    \n",
    "    @staticmethod    \n",
    "    def meets_condition_pre(event_data: dict) -> bool:\n",
    "        assert isinstance(event_data, dict), f\"{event_data!r} is not a dictionary.\"\n",
    "        for data in [\"before\",\"after\"]:\n",
    "            assert data in event_data, f\"{data} is not in {event_data}.\"\n",
    "    \n",
    "class LoginEvent(Event):\n",
    "    \"\"\"Sub class: LoginEvent class\"\"\"\n",
    "    @staticmethod\n",
    "    def meets_condition(event_data: dict) -> bool:\n",
    "#         assert \"session\" in event_data[\"before\"] and \"session\" in event_data[\"after\"]\n",
    "        return event_data['before'][\"session\"] == 0 and event_data['after'][\"session\"] == 1\n",
    "\n",
    "        \n",
    "class UnknownEvent(Event):\n",
    "    def meet_condition(self, event_data: dict) -> bool:\n",
    "        return True\n",
    "    \n",
    "class SystemMonitor:\n",
    "    def __init__(self, event_data):\n",
    "        self.event_data = event_data\n",
    "        \n",
    "    def identify_event(self):\n",
    "        Event.meets_condition_pre(self.event_data)\n",
    "        event_cls = next(\n",
    "            (event_cls for event_cls in Event.__subclasses__() if event_cls.meets_condition(self.event_data)),\n",
    "            UnknownEvent\n",
    "        )\n",
    "        return event_cls(self.event_data)"
   ]
  },
  {
   "cell_type": "code",
   "execution_count": 29,
   "metadata": {},
   "outputs": [
    {
     "name": "stdout",
     "output_type": "stream",
     "text": [
      "l1 is 'LoginEvent'\n",
      "l2 is 'UnknownEvent'\n"
     ]
    },
    {
     "ename": "KeyError",
     "evalue": "'session'",
     "output_type": "error",
     "traceback": [
      "\u001b[0;31m---------------------------------------------------------------------------\u001b[0m",
      "\u001b[0;31mKeyError\u001b[0m                                  Traceback (most recent call last)",
      "\u001b[0;32m<ipython-input-29-889278fd8833>\u001b[0m in \u001b[0;36m<module>\u001b[0;34m()\u001b[0m\n\u001b[1;32m      6\u001b[0m \u001b[0;34m\u001b[0m\u001b[0m\n\u001b[1;32m      7\u001b[0m \u001b[0ml3\u001b[0m \u001b[0;34m=\u001b[0m \u001b[0mSystemMonitor\u001b[0m\u001b[0;34m(\u001b[0m\u001b[0;34m{\u001b[0m\u001b[0;34m\"before\"\u001b[0m\u001b[0;34m:\u001b[0m\u001b[0;34m{\u001b[0m\u001b[0;34m}\u001b[0m\u001b[0;34m,\u001b[0m \u001b[0;34m\"after\"\u001b[0m\u001b[0;34m:\u001b[0m\u001b[0;34m{\u001b[0m\u001b[0;34m\"session\"\u001b[0m\u001b[0;34m:\u001b[0m\u001b[0;36m0\u001b[0m\u001b[0;34m}\u001b[0m\u001b[0;34m}\u001b[0m\u001b[0;34m)\u001b[0m\u001b[0;34m\u001b[0m\u001b[0m\n\u001b[0;32m----> 8\u001b[0;31m \u001b[0mprint\u001b[0m\u001b[0;34m(\u001b[0m\u001b[0;34mf\"l3 is {l3.identify_event().__class__.__name__!r}\"\u001b[0m\u001b[0;34m)\u001b[0m\u001b[0;34m\u001b[0m\u001b[0m\n\u001b[0m",
      "\u001b[0;32m<ipython-input-28-0ef7b0926e45>\u001b[0m in \u001b[0;36midentify_event\u001b[0;34m(self)\u001b[0m\n\u001b[1;32m     35\u001b[0m         event_cls = next(\n\u001b[1;32m     36\u001b[0m             \u001b[0;34m(\u001b[0m\u001b[0mevent_cls\u001b[0m \u001b[0;32mfor\u001b[0m \u001b[0mevent_cls\u001b[0m \u001b[0;32min\u001b[0m \u001b[0mEvent\u001b[0m\u001b[0;34m.\u001b[0m\u001b[0m__subclasses__\u001b[0m\u001b[0;34m(\u001b[0m\u001b[0;34m)\u001b[0m \u001b[0;32mif\u001b[0m \u001b[0mevent_cls\u001b[0m\u001b[0;34m.\u001b[0m\u001b[0mmeets_condition\u001b[0m\u001b[0;34m(\u001b[0m\u001b[0mself\u001b[0m\u001b[0;34m.\u001b[0m\u001b[0mevent_data\u001b[0m\u001b[0;34m)\u001b[0m\u001b[0;34m)\u001b[0m\u001b[0;34m,\u001b[0m\u001b[0;34m\u001b[0m\u001b[0m\n\u001b[0;32m---> 37\u001b[0;31m             \u001b[0mUnknownEvent\u001b[0m\u001b[0;34m\u001b[0m\u001b[0m\n\u001b[0m\u001b[1;32m     38\u001b[0m         )\n\u001b[1;32m     39\u001b[0m         \u001b[0;32mreturn\u001b[0m \u001b[0mevent_cls\u001b[0m\u001b[0;34m(\u001b[0m\u001b[0mself\u001b[0m\u001b[0;34m.\u001b[0m\u001b[0mevent_data\u001b[0m\u001b[0;34m)\u001b[0m\u001b[0;34m\u001b[0m\u001b[0m\n",
      "\u001b[0;32m<ipython-input-28-0ef7b0926e45>\u001b[0m in \u001b[0;36m<genexpr>\u001b[0;34m(.0)\u001b[0m\n\u001b[1;32m     34\u001b[0m         \u001b[0mEvent\u001b[0m\u001b[0;34m.\u001b[0m\u001b[0mmeets_condition_pre\u001b[0m\u001b[0;34m(\u001b[0m\u001b[0mself\u001b[0m\u001b[0;34m.\u001b[0m\u001b[0mevent_data\u001b[0m\u001b[0;34m)\u001b[0m\u001b[0;34m\u001b[0m\u001b[0m\n\u001b[1;32m     35\u001b[0m         event_cls = next(\n\u001b[0;32m---> 36\u001b[0;31m             \u001b[0;34m(\u001b[0m\u001b[0mevent_cls\u001b[0m \u001b[0;32mfor\u001b[0m \u001b[0mevent_cls\u001b[0m \u001b[0;32min\u001b[0m \u001b[0mEvent\u001b[0m\u001b[0;34m.\u001b[0m\u001b[0m__subclasses__\u001b[0m\u001b[0;34m(\u001b[0m\u001b[0;34m)\u001b[0m \u001b[0;32mif\u001b[0m \u001b[0mevent_cls\u001b[0m\u001b[0;34m.\u001b[0m\u001b[0mmeets_condition\u001b[0m\u001b[0;34m(\u001b[0m\u001b[0mself\u001b[0m\u001b[0;34m.\u001b[0m\u001b[0mevent_data\u001b[0m\u001b[0;34m)\u001b[0m\u001b[0;34m)\u001b[0m\u001b[0;34m,\u001b[0m\u001b[0;34m\u001b[0m\u001b[0m\n\u001b[0m\u001b[1;32m     37\u001b[0m             \u001b[0mUnknownEvent\u001b[0m\u001b[0;34m\u001b[0m\u001b[0m\n\u001b[1;32m     38\u001b[0m         )\n",
      "\u001b[0;32m<ipython-input-28-0ef7b0926e45>\u001b[0m in \u001b[0;36mmeets_condition\u001b[0;34m(event_data)\u001b[0m\n\u001b[1;32m     20\u001b[0m     \u001b[0;32mdef\u001b[0m \u001b[0mmeets_condition\u001b[0m\u001b[0;34m(\u001b[0m\u001b[0mevent_data\u001b[0m\u001b[0;34m:\u001b[0m \u001b[0mdict\u001b[0m\u001b[0;34m)\u001b[0m \u001b[0;34m->\u001b[0m \u001b[0mbool\u001b[0m\u001b[0;34m:\u001b[0m\u001b[0;34m\u001b[0m\u001b[0m\n\u001b[1;32m     21\u001b[0m \u001b[0;31m#         assert \"session\" in event_data[\"before\"] and \"session\" in event_data[\"after\"]\u001b[0m\u001b[0;34m\u001b[0m\u001b[0;34m\u001b[0m\u001b[0m\n\u001b[0;32m---> 22\u001b[0;31m         \u001b[0;32mreturn\u001b[0m \u001b[0mevent_data\u001b[0m\u001b[0;34m[\u001b[0m\u001b[0;34m'before'\u001b[0m\u001b[0;34m]\u001b[0m\u001b[0;34m[\u001b[0m\u001b[0;34m\"session\"\u001b[0m\u001b[0;34m]\u001b[0m \u001b[0;34m==\u001b[0m \u001b[0;36m0\u001b[0m \u001b[0;32mand\u001b[0m \u001b[0mevent_data\u001b[0m\u001b[0;34m[\u001b[0m\u001b[0;34m'after'\u001b[0m\u001b[0;34m]\u001b[0m\u001b[0;34m[\u001b[0m\u001b[0;34m\"session\"\u001b[0m\u001b[0;34m]\u001b[0m \u001b[0;34m==\u001b[0m \u001b[0;36m1\u001b[0m\u001b[0;34m\u001b[0m\u001b[0m\n\u001b[0m\u001b[1;32m     23\u001b[0m \u001b[0;34m\u001b[0m\u001b[0m\n\u001b[1;32m     24\u001b[0m \u001b[0;34m\u001b[0m\u001b[0m\n",
      "\u001b[0;31mKeyError\u001b[0m: 'session'"
     ]
    }
   ],
   "source": [
    "l1 = SystemMonitor({\"before\":{\"session\":0}, \"after\":{\"session\":1}})\n",
    "print(f\"l1 is {l1.identify_event().__class__.__name__!r}\")\n",
    "\n",
    "l2 = SystemMonitor({\"before\":{\"session\":1}, \"after\":{\"session\":0}})\n",
    "print(f\"l2 is {l2.identify_event().__class__.__name__!r}\")\n",
    "\n",
    "l3 = SystemMonitor({\"before\":{}, \"after\":{\"session\":0}})\n",
    "print(f\"l3 is {l3.identify_event().__class__.__name__!r}\")"
   ]
  },
  {
   "cell_type": "code",
   "execution_count": 30,
   "metadata": {},
   "outputs": [],
   "source": [
    "# LSP를 적용한 예제 2\n",
    "class Event:\n",
    "    \"\"\"Super class: Event class\"\"\"\n",
    "    def __init__(self, event_data: dict):\n",
    "        self.event_data = event_data\n",
    "\n",
    "    @staticmethod\n",
    "    def meets_condition(event_data: dict) -> bool:\n",
    "        return False\n",
    "    \n",
    "    @staticmethod    \n",
    "    def meets_condition_pre(event_data: dict) -> bool:\n",
    "        assert isinstance(event_data, dict), f\"{event_data!r} is not a dictionary.\"\n",
    "        for data in [\"before\",\"after\"]:\n",
    "            assert data in event_data, f\"{data} is not in {event_data}.\"\n",
    "    \n",
    "class LoginEvent(Event):\n",
    "    \"\"\"Sub class: LoginEvent class\"\"\"\n",
    "    @staticmethod\n",
    "    def meets_condition(event_data: dict) -> bool:\n",
    "        return event_data['before'].get(\"session\") == 0 and event_data['after'].get(\"session\") == 1\n",
    "        \n",
    "class UnknownEvent(Event):\n",
    "    def meet_condition(self, event_data: dict) -> bool:\n",
    "        return True\n",
    "    \n",
    "class SystemMonitor:\n",
    "    def __init__(self, event_data):\n",
    "        self.event_data = event_data\n",
    "        \n",
    "    def identify_event(self):\n",
    "        Event.meets_condition_pre(self.event_data)\n",
    "        event_cls = next(\n",
    "            (event_cls for event_cls in Event.__subclasses__() if event_cls.meets_condition(self.event_data)),\n",
    "            UnknownEvent\n",
    "        )\n",
    "        return event_cls(self.event_data)"
   ]
  },
  {
   "cell_type": "code",
   "execution_count": 31,
   "metadata": {},
   "outputs": [
    {
     "name": "stdout",
     "output_type": "stream",
     "text": [
      "l1 is 'LoginEvent'\n",
      "l2 is 'UnknownEvent'\n",
      "l3 is 'UnknownEvent'\n"
     ]
    }
   ],
   "source": [
    "l1 = SystemMonitor({\"before\":{\"session\":0}, \"after\":{\"session\":1}})\n",
    "print(f\"l1 is {l1.identify_event().__class__.__name__!r}\")\n",
    "\n",
    "l2 = SystemMonitor({\"before\":{\"session\":1}, \"after\":{\"session\":0}})\n",
    "print(f\"l2 is {l2.identify_event().__class__.__name__!r}\")\n",
    "\n",
    "l3 = SystemMonitor({\"before\":{}, \"after\":{\"session\":0}})\n",
    "print(f\"l3 is {l3.identify_event().__class__.__name__!r}\")"
   ]
  },
  {
   "cell_type": "code",
   "execution_count": null,
   "metadata": {},
   "outputs": [],
   "source": []
  }
 ],
 "metadata": {
  "kernelspec": {
   "display_name": "Python 3",
   "language": "python",
   "name": "python3"
  },
  "language_info": {
   "codemirror_mode": {
    "name": "ipython",
    "version": 3
   },
   "file_extension": ".py",
   "mimetype": "text/x-python",
   "name": "python",
   "nbconvert_exporter": "python",
   "pygments_lexer": "ipython3",
   "version": "3.6.5"
  }
 },
 "nbformat": 4,
 "nbformat_minor": 2
}
