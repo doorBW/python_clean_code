{
 "cells": [
  {
   "cell_type": "markdown",
   "metadata": {},
   "source": [
    "# **SOLID_DIP(Dependency Inversion Principle)**\n",
    "관련 내용은 아래 블로그 주소에 포스팅해두었습니다.   \n",
    "URL: https://doorbw.tistory.com/240"
   ]
  },
  {
   "cell_type": "markdown",
   "metadata": {},
   "source": [
    "## **Dependency Inversion Principle**\n",
    "#### ** EventStreamer class example**"
   ]
  },
  {
   "cell_type": "code",
   "execution_count": 46,
   "metadata": {},
   "outputs": [
    {
     "name": "stdout",
     "output_type": "stream",
     "text": [
      "Syslog send: for Syslog data!\n"
     ]
    },
    {
     "ename": "AssertionError",
     "evalue": "Client is not Syslog",
     "output_type": "error",
     "traceback": [
      "\u001b[0;31m---------------------------------------------------------------------------\u001b[0m",
      "\u001b[0;31mAssertionError\u001b[0m                            Traceback (most recent call last)",
      "\u001b[0;32m<ipython-input-46-d6c168be4001>\u001b[0m in \u001b[0;36m<module>\u001b[0;34m()\u001b[0m\n\u001b[1;32m     24\u001b[0m \u001b[0mstreamer1\u001b[0m \u001b[0;34m=\u001b[0m \u001b[0mEventStreamer\u001b[0m\u001b[0;34m(\u001b[0m\u001b[0;34m\"for Syslog data!\"\u001b[0m\u001b[0;34m,\u001b[0m \u001b[0mSyslog\u001b[0m\u001b[0;34m)\u001b[0m\u001b[0;34m\u001b[0m\u001b[0m\n\u001b[1;32m     25\u001b[0m \u001b[0mstreamer1\u001b[0m\u001b[0;34m.\u001b[0m\u001b[0mstream\u001b[0m\u001b[0;34m(\u001b[0m\u001b[0;34m)\u001b[0m\u001b[0;34m\u001b[0m\u001b[0m\n\u001b[0;32m---> 26\u001b[0;31m \u001b[0mstreamer2\u001b[0m \u001b[0;34m=\u001b[0m \u001b[0mEventStreamer\u001b[0m\u001b[0;34m(\u001b[0m\u001b[0;34m\"for OtherClient data!\"\u001b[0m\u001b[0;34m,\u001b[0m \u001b[0mOtherClient\u001b[0m\u001b[0;34m)\u001b[0m\u001b[0;34m\u001b[0m\u001b[0m\n\u001b[0m\u001b[1;32m     27\u001b[0m \u001b[0mstreamer2\u001b[0m\u001b[0;34m.\u001b[0m\u001b[0mstream\u001b[0m\u001b[0;34m(\u001b[0m\u001b[0;34m)\u001b[0m\u001b[0;34m\u001b[0m\u001b[0m\n",
      "\u001b[0;32m<ipython-input-46-d6c168be4001>\u001b[0m in \u001b[0;36m__init__\u001b[0;34m(self, parsed_data, client)\u001b[0m\n\u001b[1;32m      5\u001b[0m     \u001b[0;32mdef\u001b[0m \u001b[0m__init__\u001b[0m\u001b[0;34m(\u001b[0m\u001b[0mself\u001b[0m\u001b[0;34m,\u001b[0m \u001b[0mparsed_data\u001b[0m\u001b[0;34m:\u001b[0m \u001b[0mstr\u001b[0m\u001b[0;34m,\u001b[0m \u001b[0mclient\u001b[0m\u001b[0;34m:\u001b[0m \u001b[0mSyslog\u001b[0m\u001b[0;34m)\u001b[0m\u001b[0;34m:\u001b[0m\u001b[0;34m\u001b[0m\u001b[0m\n\u001b[1;32m      6\u001b[0m         \u001b[0mself\u001b[0m\u001b[0;34m.\u001b[0m\u001b[0mparsed_data\u001b[0m \u001b[0;34m=\u001b[0m \u001b[0mparsed_data\u001b[0m\u001b[0;34m\u001b[0m\u001b[0m\n\u001b[0;32m----> 7\u001b[0;31m         \u001b[0;32massert\u001b[0m \u001b[0mclient\u001b[0m \u001b[0;32mis\u001b[0m \u001b[0mSyslog\u001b[0m\u001b[0;34m,\u001b[0m \u001b[0;34m\"Client is not Syslog\"\u001b[0m\u001b[0;34m\u001b[0m\u001b[0m\n\u001b[0m\u001b[1;32m      8\u001b[0m         \u001b[0mself\u001b[0m\u001b[0;34m.\u001b[0m\u001b[0mclient\u001b[0m \u001b[0;34m=\u001b[0m \u001b[0mclient\u001b[0m\u001b[0;34m\u001b[0m\u001b[0m\n\u001b[1;32m      9\u001b[0m \u001b[0;34m\u001b[0m\u001b[0m\n",
      "\u001b[0;31mAssertionError\u001b[0m: Client is not Syslog"
     ]
    }
   ],
   "source": [
    "# DIP를 지키지 못한 예제\n",
    "from abc import *\n",
    "\n",
    "class EventStreamer():\n",
    "    def __init__(self, parsed_data: str, client: Syslog):\n",
    "        self.parsed_data = parsed_data\n",
    "        assert client is Syslog, \"Client is not Syslog\"\n",
    "        self.client = client\n",
    "        \n",
    "    def stream(self):\n",
    "        self.client.send(self.parsed_data)    \n",
    "        \n",
    "class Syslog():\n",
    "    def send(data: str):\n",
    "        print(f\"Syslog send: {data}\")\n",
    "        pass\n",
    "    \n",
    "class OtherClient():\n",
    "    def send(data: str):\n",
    "        print(f\"OtherClient send: {data}\")\n",
    "        pass\n",
    "\n",
    "\n",
    "streamer1 = EventStreamer(\"for Syslog data!\", Syslog)\n",
    "streamer1.stream()\n",
    "streamer2 = EventStreamer(\"for OtherClient data!\", OtherClient)\n",
    "streamer2.stream()"
   ]
  },
  {
   "cell_type": "code",
   "execution_count": 47,
   "metadata": {},
   "outputs": [
    {
     "name": "stdout",
     "output_type": "stream",
     "text": [
      "Syslog send: for Syslog data!\n",
      "OtherClient send: for OtherClient data!\n"
     ]
    }
   ],
   "source": [
    "# DIP를 적용한 예제\n",
    "from abc import *\n",
    "\n",
    "class EventStreamer():\n",
    "    def __init__(self, parsed_data: str, client):\n",
    "        self.parsed_data = parsed_data\n",
    "        assert client in DataTargetClient.__subclasses__(), \"Client is not DataTargetClient\"\n",
    "        self.client = client\n",
    "        \n",
    "    def stream(self):\n",
    "        self.client.send(self.parsed_data)\n",
    "\n",
    "class DataTargetClient(metaclass=ABCMeta):\n",
    "    \"\"\"Interface: DataTargetClient class\"\"\"\n",
    "    @abstractmethod\n",
    "    def send(self, data: str):\n",
    "        pass            \n",
    "        \n",
    "class Syslog(DataTargetClient):\n",
    "    def send(data: str):\n",
    "        print(f\"Syslog send: {data}\")\n",
    "        pass\n",
    "    \n",
    "class OtherClient(DataTargetClient):\n",
    "    def send(data: str):\n",
    "        print(f\"OtherClient send: {data}\")\n",
    "        pass\n",
    "\n",
    "\n",
    "streamer1 = EventStreamer(\"for Syslog data!\", Syslog)\n",
    "streamer1.stream()\n",
    "streamer2 = EventStreamer(\"for OtherClient data!\", OtherClient)\n",
    "streamer2.stream()"
   ]
  }
 ],
 "metadata": {
  "kernelspec": {
   "display_name": "Python 3",
   "language": "python",
   "name": "python3"
  },
  "language_info": {
   "codemirror_mode": {
    "name": "ipython",
    "version": 3
   },
   "file_extension": ".py",
   "mimetype": "text/x-python",
   "name": "python",
   "nbconvert_exporter": "python",
   "pygments_lexer": "ipython3",
   "version": "3.8.2"
  }
 },
 "nbformat": 4,
 "nbformat_minor": 2
}
