{
 "cells": [
  {
   "cell_type": "markdown",
   "metadata": {},
   "source": [
    "# Decorator_1"
   ]
  },
  {
   "cell_type": "markdown",
   "metadata": {},
   "source": [
    "일반적인 함수, running_func를 정의하고 함수를 파라미터로 받아서 내부 함수를 리턴하는 decorator_func를 정의한다."
   ]
  },
  {
   "cell_type": "code",
   "execution_count": 37,
   "metadata": {},
   "outputs": [
    {
     "name": "stdout",
     "output_type": "stream",
     "text": [
      " :: running_func 호출 ::\n",
      "running_func이 호출 되었습니다.\n",
      "\n",
      " :: decorator_func 사용 ::\n",
      "decorator_func이 호출 되었습니다.\n",
      "\n",
      " :: running_func 호출 ::\n",
      "wrapper_func이 호출 되었습니다. 이어서 running_func이 호출됩니다.\n",
      "running_func이 호출 되었습니다.\n"
     ]
    }
   ],
   "source": [
    "def running_func():\n",
    "    print(\"running_func이 호출 되었습니다.\")\n",
    "\n",
    "def decorator_func(func):\n",
    "    print(\"decorator_func이 호출 되었습니다.\")\n",
    "    def wrapper_func():\n",
    "        print(f\"wrapper_func이 호출 되었습니다. 이어서 {func.__name__}이 호출됩니다.\")\n",
    "        return func()\n",
    "    return wrapper_func\n",
    "    \n",
    "print(\" :: running_func 호출 ::\")\n",
    "running_func()\n",
    "print(\"\\n :: decorator_func 사용 ::\")\n",
    "running_func = decorator_func(running_func)\n",
    "print(\"\\n :: running_func 호출 ::\")\n",
    "running_func()"
   ]
  },
  {
   "cell_type": "markdown",
   "metadata": {},
   "source": [
    "위와 같이, decorator_func을 이용함으로써 기존의 running_func에 추가적인 기능을 더해서 기존의 함수 이름과 동일하게 할당하고 사용할 수 있게 되었다.   \n",
    "하지만 위와 같이 동일한 이름으로 함수를 새로 할당하여 사용하고자 할때,   \n",
    "기존 함수의 정의와 떨어져 있거나 함수를 재할당하는 것을 잊어버리는 경우 혼란스러움과 더불어 오류가 발생할 수 있다.   \n",
    "이러한 이유로 다음과 같은 새로운 구문이 추가되었다."
   ]
  },
  {
   "cell_type": "code",
   "execution_count": 38,
   "metadata": {},
   "outputs": [
    {
     "name": "stdout",
     "output_type": "stream",
     "text": [
      "decorator_func이 호출되었습니다.\n",
      " :: running_func 호출 ::\n",
      "wrapper_func이 호출되었습니다. 이어서 running_func이 호출됩니다.\n",
      "running_func이 호출 되었습니다.\n"
     ]
    }
   ],
   "source": [
    "def decorator_func(func):\n",
    "    print(\"decorator_func이 호출되었습니다.\")\n",
    "    def wrapper_func():\n",
    "        print(f\"wrapper_func이 호출되었습니다. 이어서 {func.__name__}이 호출됩니다.\")\n",
    "        return func()\n",
    "    return wrapper_func\n",
    "\n",
    "@decorator_func\n",
    "def running_func():\n",
    "    print(\"running_func이 호출 되었습니다.\")\n",
    "    \n",
    "print(\" :: running_func 호출 ::\")\n",
    "running_func()"
   ]
  },
  {
   "cell_type": "markdown",
   "metadata": {},
   "source": [
    "위와 같이 @를 사용하여 기존에 재할당하던 코드를 간소화시킬 수 있다.   \n",
    "여기서 사용되는 decorator_func을 파이썬에서 \"데코레이터\"라고 하며,   \n",
    "위 예제의 running_func 함수와 같이 데코레이터에 의한 영향을 받은 함수를 \"데코레이팅 된 함수\" 또는 \"래핑(wrapping)된 객체\"라고 한다.   \n",
    "   \n",
    "위와 같은 파이썬의 데코레이터 문법은 함수 데코레이팅을 위해 고안되었지만,   \n",
    "이후에 알아볼 것과 같이 함수이외의 클래스, 제네레이터 등의 객체에도 사용이 가능하다.   \n",
    "   \n",
    "이어서 클래스 데코레이터를 살펴보자."
   ]
  },
  {
   "cell_type": "code",
   "execution_count": 39,
   "metadata": {},
   "outputs": [
    {
     "name": "stdout",
     "output_type": "stream",
     "text": [
      "ClassDecorator가 초기화 되었습니다.\n",
      " :: running_func 호출 ::\n",
      "ClassDecorator가 호출 되었습니다.\n",
      "running_func이 호출 되었습니다.\n"
     ]
    }
   ],
   "source": [
    "class ClassDecorator():\n",
    "    def __init__(self, func):\n",
    "        print(\"ClassDecorator가 초기화 되었습니다.\")\n",
    "        self.func = func\n",
    "        \n",
    "    def __call__(self):\n",
    "        print(\"ClassDecorator가 호출 되었습니다.\")\n",
    "        return self.func()\n",
    "    \n",
    "@ClassDecorator\n",
    "def running_func():\n",
    "    print(\"running_func이 호출 되었습니다.\")\n",
    "    \n",
    "print(\" :: running_func 호출 ::\")\n",
    "running_func()"
   ]
  },
  {
   "cell_type": "markdown",
   "metadata": {},
   "source": [
    "위와 같이 클래스 객체 또한 \\_\\_call__ 매직메서드를 이용하여 데코레이터로 활용할 수 있다.   \n",
    "아직 데코레이터의 기본적인 예제들을 살펴보았기 때문에 감이 안 올 수 있지만,   \n",
    "위와 같은 데코레이터는, 대표적으로 다음과 같은 케이스에 유용하게 사용될 수 있다.   \n",
    "* 로깅(logging)\n",
    "* 함수 파라미터의 유효성 검사\n",
    "* 재시도(retry) 로직 구현   \n",
    "\n",
    "다음번에는 위의 3가지 케이스에 대해서 직접 구현하여 활용해보도록 하자.   "
   ]
  }
 ],
 "metadata": {
  "kernelspec": {
   "display_name": "Python 3",
   "language": "python",
   "name": "python3"
  },
  "language_info": {
   "codemirror_mode": {
    "name": "ipython",
    "version": 3
   },
   "file_extension": ".py",
   "mimetype": "text/x-python",
   "name": "python",
   "nbconvert_exporter": "python",
   "pygments_lexer": "ipython3",
   "version": "3.8.2"
  }
 },
 "nbformat": 4,
 "nbformat_minor": 4
}
