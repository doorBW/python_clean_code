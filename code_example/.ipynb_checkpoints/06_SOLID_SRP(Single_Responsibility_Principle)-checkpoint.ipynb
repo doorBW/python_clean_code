{
 "cells": [
  {
   "cell_type": "markdown",
   "metadata": {},
   "source": [
    "# SOLID_SRP(Single_Responsibility_Principle)\n",
    "관련 내용은 아래 블로그 주소에 포스팅해두었습니다.   \n",
    "URL: https://doorbw.tistory.com/236   "
   ]
  },
  {
   "cell_type": "markdown",
   "metadata": {},
   "source": [
    "## Single Responsibility Principle\n",
    "### Course class example"
   ]
  },
  {
   "cell_type": "code",
   "execution_count": 32,
   "metadata": {},
   "outputs": [],
   "source": [
    "class Course:\n",
    "    \"\"\"너무 많은 책임을 가진 Course 클래스\"\"\"\n",
    "    \n",
    "    def __init__(self, code, name, schedule, pf):\n",
    "        self.code = code\n",
    "        self.name = name\n",
    "        self.schedule = schedule\n",
    "        self.pf = pf\n",
    "    \n",
    "    def connect(self, con)->bool:\n",
    "        \"\"\"DB connecting\"\"\"\n",
    "        pass\n",
    "    \n",
    "    def close(self)->bool:\n",
    "        \"\"\"DB close\"\"\"\n",
    "        pass\n",
    "    \n",
    "    def get_course_by_pf(self, professor)->list:\n",
    "        \"\"\"professor로 강의 찾기 함수\"\"\"\n",
    "        pass\n",
    "    \n",
    "    def save_course(self, Course)->bool:\n",
    "        \"\"\"DB에 course 저장하기\"\"\"\n",
    "        pass\n",
    "    \n",
    "    def update_course(self, code)->bool:\n",
    "        \"\"\"특정 code를 가진 course를 DB update 하기\"\"\"\n",
    "        pass"
   ]
  },
  {
   "cell_type": "code",
   "execution_count": 33,
   "metadata": {},
   "outputs": [],
   "source": [
    "class Course:\n",
    "    \"\"\"SRP원칙을 준수한 Course 클래스\"\"\"\n",
    "    \n",
    "    def __init__(self, code, name, schedule, pf):\n",
    "        self.code = code\n",
    "        self.name = name\n",
    "        self.schedule = schedule\n",
    "        self.pf = pf\n",
    "\n",
    "class CourseDB:\n",
    "    \"\"\"SRP원칙을 준수한 CourseDB 클래스\"\"\"\n",
    "    def __init__(self, con):\n",
    "        self.con = con\n",
    "    \n",
    "    def connect(self)->bool:\n",
    "        \"\"\"DB connecting\"\"\"\n",
    "        pass\n",
    "    \n",
    "    def close(self)->bool:\n",
    "        \"\"\"DB closing\"\"\"\n",
    "        pass\n",
    "    \n",
    "    def get_course_by_pf(self, professor)->list:\n",
    "        \"\"\"professor로 강의 찾기 함수\"\"\"\n",
    "        pass\n",
    "    \n",
    "    def save_course(self, Course)->bool:\n",
    "        \"\"\"DB에 course 저장하기\"\"\"\n",
    "        pass\n",
    "    \n",
    "    def update_course(self, code)->bool:\n",
    "        \"\"\"특정 code를 가진 course를 DB update 하기\"\"\"\n",
    "        pass"
   ]
  },
  {
   "cell_type": "markdown",
   "metadata": {},
   "source": [
    "### Human example"
   ]
  },
  {
   "cell_type": "code",
   "execution_count": 34,
   "metadata": {},
   "outputs": [],
   "source": [
    "class Human:\n",
    "    \"\"\"추상화 과정이 필요한 Human 클래스\"\"\"\n",
    "    def __init__(self, name, sex):\n",
    "        self.name = name\n",
    "        self.sex = sex\n",
    "        \n",
    "    def go_restroom(self):\n",
    "        \"\"\"화장실 가는 함수\"\"\"\n",
    "        if(self.sex == '남자'):\n",
    "            print(\"남자화장실로 간다.\")\n",
    "        elif(self.sex == '여자'):\n",
    "            print(\"여자화장실로 간다.\")\n",
    "        else:\n",
    "            print(\"성별을 지정해주세요.\")\n"
   ]
  },
  {
   "cell_type": "code",
   "execution_count": 35,
   "metadata": {},
   "outputs": [],
   "source": [
    "from abc import *\n",
    "\n",
    "class HumanBase(metaclass=ABCMeta):\n",
    "    def __init__(self, name):\n",
    "        self.name = name\n",
    "    \n",
    "    @abstractmethod\n",
    "    def go_restroom(self):\n",
    "        pass\n",
    "    \n",
    "class Male(HumanBase):\n",
    "    def __init__(self, name):\n",
    "        super().__init__(name)\n",
    "        self.sex = \"남자\"\n",
    "    \n",
    "    def go_restroom(self):\n",
    "        print(\"남자화장실로 간다.\")\n",
    "        \n",
    "class Female(HumanBase):\n",
    "    def __init__(self, name):\n",
    "        super().__init__(name)\n",
    "        self.sex = \"여자\"\n",
    "        \n",
    "    def go_restroom(self):\n",
    "        print(\"여자화장실로 간다.\")"
   ]
  },
  {
   "cell_type": "code",
   "execution_count": 36,
   "metadata": {},
   "outputs": [
    {
     "name": "stdout",
     "output_type": "stream",
     "text": [
      "남자화장실로 간다.\n"
     ]
    }
   ],
   "source": [
    "human = Human(\"김철수\",\"남자\")\n",
    "human.go_restroom()"
   ]
  },
  {
   "cell_type": "code",
   "execution_count": 37,
   "metadata": {},
   "outputs": [
    {
     "name": "stdout",
     "output_type": "stream",
     "text": [
      "남자화장실로 간다.\n"
     ]
    }
   ],
   "source": [
    "male = Male(\"홍길동\")\n",
    "male.go_restroom()"
   ]
  }
 ],
 "metadata": {
  "kernelspec": {
   "display_name": "Python 3",
   "language": "python",
   "name": "python3"
  },
  "language_info": {
   "codemirror_mode": {
    "name": "ipython",
    "version": 3
   },
   "file_extension": ".py",
   "mimetype": "text/x-python",
   "name": "python",
   "nbconvert_exporter": "python",
   "pygments_lexer": "ipython3",
   "version": "3.8.2"
  }
 },
 "nbformat": 4,
 "nbformat_minor": 4
}
